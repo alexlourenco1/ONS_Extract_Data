{
 "cells": [
  {
   "cell_type": "code",
   "execution_count": 8,
   "metadata": {},
   "outputs": [],
   "source": [
    "import pandas as pd"
   ]
  },
  {
   "cell_type": "code",
   "execution_count": 6,
   "metadata": {},
   "outputs": [
    {
     "ename": "NameError",
     "evalue": "name 'pd' is not defined",
     "output_type": "error",
     "traceback": [
      "\u001b[1;31m---------------------------------------------------------------------------\u001b[0m",
      "\u001b[1;31mNameError\u001b[0m                                 Traceback (most recent call last)",
      "Cell \u001b[1;32mIn[6], line 2\u001b[0m\n\u001b[0;32m      1\u001b[0m year\u001b[39m=\u001b[39m\u001b[39m2023\u001b[39m\n\u001b[1;32m----> 2\u001b[0m ENA_df \u001b[39m=\u001b[39m pd\u001b[39m.\u001b[39mread_csv(\n\u001b[0;32m      3\u001b[0m         \u001b[39m\"\u001b[39m\u001b[39mhttps://ons-dl-prod-opendata.s3.amazonaws.com/dataset/ena_subsistema_di/ENA_DIARIO_SUBSISTEMA_\u001b[39m\u001b[39m\"\u001b[39m \u001b[39m+\u001b[39m \u001b[39mstr\u001b[39m(\n\u001b[0;32m      4\u001b[0m             year) \u001b[39m+\u001b[39m \u001b[39m\"\u001b[39m\u001b[39m.csv\u001b[39m\u001b[39m\"\u001b[39m, sep\u001b[39m=\u001b[39m\u001b[39m\"\u001b[39m\u001b[39m;\u001b[39m\u001b[39m\"\u001b[39m)\n\u001b[0;32m      5\u001b[0m \u001b[39m#ENA_df_sub = feature_by_sub(ENA_df.drop(columns=['nom_subsistema']), 'id_subsistema', 'ena_data')\u001b[39;00m\n\u001b[0;32m      6\u001b[0m \u001b[39mprint\u001b[39m(ENA_df)\n",
      "\u001b[1;31mNameError\u001b[0m: name 'pd' is not defined"
     ]
    }
   ],
   "source": [
    "year=2023\n",
    "ENA_df = pd.read_csv(\n",
    "        \"https://ons-dl-prod-opendata.s3.amazonaws.com/dataset/ena_subsistema_di/ENA_DIARIO_SUBSISTEMA_\" + str(\n",
    "            year) + \".csv\", sep=\";\")\n",
    "#ENA_df_sub = feature_by_sub(ENA_df.drop(columns=['nom_subsistema']), 'id_subsistema', 'ena_data')\n",
    "print(ENA_df)"
   ]
  },
  {
   "cell_type": "code",
   "execution_count": 9,
   "metadata": {},
   "outputs": [
    {
     "name": "stdout",
     "output_type": "stream",
     "text": [
      "  id_subsistema nom_subsistema nom_bacia nom_rio   nom_agente  \\\n",
      "0             N          NORTE  AMAZONAS  UATUMA  ELETRONORTE   \n",
      "1             N          NORTE  AMAZONAS  UATUMA  ELETRONORTE   \n",
      "2             N          NORTE  AMAZONAS  UATUMA  ELETRONORTE   \n",
      "3             N          NORTE  AMAZONAS  UATUMA  ELETRONORTE   \n",
      "4             N          NORTE  AMAZONAS  UATUMA  ELETRONORTE   \n",
      "\n",
      "  nom_reservatorio  cod_usina         din_instante  val_geracao  \\\n",
      "0          BALBINA      277.0  2023-01-01 00:00:00      103.261   \n",
      "1          BALBINA      277.0  2023-01-01 01:00:00      102.334   \n",
      "2          BALBINA      277.0  2023-01-01 02:00:00      103.473   \n",
      "3          BALBINA      277.0  2023-01-01 03:00:00      102.531   \n",
      "4          BALBINA      277.0  2023-01-01 04:00:00      101.440   \n",
      "\n",
      "   val_disponibilidade  val_vazaoturbinada  val_vazaovertida  \\\n",
      "0                250.0               600.0               0.0   \n",
      "1                250.0               600.0               0.0   \n",
      "2                250.0               600.0               0.0   \n",
      "3                250.0               600.0               0.0   \n",
      "4                250.0               600.0               0.0   \n",
      "\n",
      "   val_vazaovertidanaoturbinavel  val_produtividade  val_folgadegeracao  \\\n",
      "0                            0.0           0.172102             146.739   \n",
      "1                            0.0           0.170557             147.666   \n",
      "2                            0.0           0.172455             146.527   \n",
      "3                            0.0           0.170885             147.469   \n",
      "4                            0.0           0.169067             148.560   \n",
      "\n",
      "   val_energiavertida  val_vazaovertidaturbinavel  \\\n",
      "0                 0.0                         0.0   \n",
      "1                 0.0                         0.0   \n",
      "2                 0.0                         0.0   \n",
      "3                 0.0                         0.0   \n",
      "4                 0.0                         0.0   \n",
      "\n",
      "   val_energiavertidaturbinavel  \n",
      "0                           0.0  \n",
      "1                           0.0  \n",
      "2                           0.0  \n",
      "3                           0.0  \n",
      "4                           0.0  \n"
     ]
    }
   ],
   "source": [
    "year=2023\n",
    "vert_df = pd.read_csv(\n",
    "        \"https://ons-dl-prod-opendata.s3.amazonaws.com/dataset/energia_vertida_turbinavel_ho/ENERGIA_VERTIDA_TURBINAVEL_\" + str(\n",
    "            year) + \".csv\", sep=\";\")\n",
    "#ENA_df_sub = feature_by_sub(ENA_df.drop(columns=['nom_subsistema']), 'id_subsistema', 'ena_data')\n",
    "print(vert_df.head())"
   ]
  },
  {
   "cell_type": "code",
   "execution_count": 10,
   "metadata": {},
   "outputs": [
    {
     "name": "stdout",
     "output_type": "stream",
     "text": [
      "<class 'pandas.core.frame.DataFrame'>\n",
      "RangeIndex: 674146 entries, 0 to 674145\n",
      "Data columns (total 18 columns):\n",
      " #   Column                         Non-Null Count   Dtype  \n",
      "---  ------                         --------------   -----  \n",
      " 0   id_subsistema                  674146 non-null  object \n",
      " 1   nom_subsistema                 674146 non-null  object \n",
      " 2   nom_bacia                      674146 non-null  object \n",
      " 3   nom_rio                        674146 non-null  object \n",
      " 4   nom_agente                     674146 non-null  object \n",
      " 5   nom_reservatorio               674146 non-null  object \n",
      " 6   cod_usina                      669658 non-null  float64\n",
      " 7   din_instante                   674146 non-null  object \n",
      " 8   val_geracao                    674146 non-null  float64\n",
      " 9   val_disponibilidade            674146 non-null  float64\n",
      " 10  val_vazaoturbinada             674146 non-null  float64\n",
      " 11  val_vazaovertida               674146 non-null  float64\n",
      " 12  val_vazaovertidanaoturbinavel  674146 non-null  float64\n",
      " 13  val_produtividade              674146 non-null  float64\n",
      " 14  val_folgadegeracao             674146 non-null  float64\n",
      " 15  val_energiavertida             674146 non-null  float64\n",
      " 16  val_vazaovertidaturbinavel     674146 non-null  float64\n",
      " 17  val_energiavertidaturbinavel   674146 non-null  float64\n",
      "dtypes: float64(11), object(7)\n",
      "memory usage: 92.6+ MB\n",
      "None\n"
     ]
    }
   ],
   "source": [
    "#print(vert_df.head())\n",
    "print(vert_df.info())"
   ]
  },
  {
   "cell_type": "code",
   "execution_count": 11,
   "metadata": {},
   "outputs": [
    {
     "name": "stdout",
     "output_type": "stream",
     "text": [
      "<class 'pandas.core.frame.DataFrame'>\n",
      "RangeIndex: 674146 entries, 0 to 674145\n",
      "Data columns (total 18 columns):\n",
      " #   Column                         Non-Null Count   Dtype  \n",
      "---  ------                         --------------   -----  \n",
      " 0   id_subsistema                  674146 non-null  object \n",
      " 1   nom_subsistema                 674146 non-null  object \n",
      " 2   nom_bacia                      674146 non-null  object \n",
      " 3   nom_rio                        674146 non-null  object \n",
      " 4   nom_agente                     674146 non-null  object \n",
      " 5   nom_reservatorio               674146 non-null  object \n",
      " 6   cod_usina                      669658 non-null  float64\n",
      " 7   din_instante                   674146 non-null  object \n",
      " 8   val_geracao                    674146 non-null  float64\n",
      " 9   val_disponibilidade            674146 non-null  float64\n",
      " 10  val_vazaoturbinada             674146 non-null  float64\n",
      " 11  val_vazaovertida               674146 non-null  float64\n",
      " 12  val_vazaovertidanaoturbinavel  674146 non-null  float64\n",
      " 13  val_produtividade              674146 non-null  float64\n",
      " 14  val_folgadegeracao             674146 non-null  float64\n",
      " 15  val_energiavertida             674146 non-null  float64\n",
      " 16  val_vazaovertidaturbinavel     674146 non-null  float64\n",
      " 17  val_energiavertidaturbinavel   674146 non-null  float64\n",
      "dtypes: float64(11), object(7)\n",
      "memory usage: 92.6+ MB\n",
      "None\n"
     ]
    }
   ],
   "source": [
    "print(vert_df.info())"
   ]
  },
  {
   "cell_type": "code",
   "execution_count": 12,
   "metadata": {},
   "outputs": [
    {
     "name": "stdout",
     "output_type": "stream",
     "text": [
      "Empty DataFrame\n",
      "Columns: [id_subsistema, nom_subsistema, nom_bacia, nom_rio, nom_agente, nom_reservatorio, cod_usina, din_instante, val_geracao, val_disponibilidade, val_vazaoturbinada, val_vazaovertida, val_vazaovertidanaoturbinavel, val_produtividade, val_folgadegeracao, val_energiavertida, val_vazaovertidaturbinavel, val_energiavertidaturbinavel]\n",
      "Index: []\n"
     ]
    }
   ],
   "source": [
    "print(vert_df[vert_df['din_instante']>'2023-07-09 00:00:00'])"
   ]
  }
 ],
 "metadata": {
  "kernelspec": {
   "display_name": ".venv",
   "language": "python",
   "name": "python3"
  },
  "language_info": {
   "codemirror_mode": {
    "name": "ipython",
    "version": 3
   },
   "file_extension": ".py",
   "mimetype": "text/x-python",
   "name": "python",
   "nbconvert_exporter": "python",
   "pygments_lexer": "ipython3",
   "version": "3.10.4"
  },
  "orig_nbformat": 4
 },
 "nbformat": 4,
 "nbformat_minor": 2
}
